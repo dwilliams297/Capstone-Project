{
 "cells": [
  {
   "cell_type": "code",
   "execution_count": 1,
   "metadata": {},
   "outputs": [],
   "source": [
    "import numpy as np\n",
    "from numpy.random import randn"
   ]
  },
  {
   "cell_type": "code",
   "execution_count": null,
   "metadata": {},
   "outputs": [],
   "source": [
    "#Exercise 1"
   ]
  },
  {
   "cell_type": "code",
   "execution_count": 3,
   "metadata": {},
   "outputs": [
    {
     "data": {
      "text/plain": [
       "array([-0.57802639,  0.50047449,  0.05835756,  0.0520539 ,  0.15593063,\n",
       "       -0.5984279 , -0.34828489, -0.33642696,  0.04500104,  0.20926126,\n",
       "       -0.17871521,  0.61438652,  0.26378764, -1.6413323 , -1.06770712,\n",
       "       -1.4272331 ,  0.78561549,  1.09590989, -0.69476594, -0.03886255,\n",
       "       -1.16704388, -0.69947779,  0.48900241, -1.22965336, -1.01913128,\n",
       "       -0.42419758,  0.95680453,  1.83680644,  0.30288614, -0.2907393 ,\n",
       "       -2.3743051 , -1.09776119, -0.29036567,  0.40964602, -0.82976358,\n",
       "       -2.39381556, -0.30101893, -0.86846734,  1.0780254 , -0.0149686 ,\n",
       "        0.34432109, -0.56553403, -0.45574958,  0.69240946, -0.62821847,\n",
       "       -0.19078347, -0.43472087, -0.20688661, -0.28456618, -0.35240671])"
      ]
     },
     "execution_count": 3,
     "metadata": {},
     "output_type": "execute_result"
    }
   ],
   "source": [
    "#load 50 random number into an array\n",
    "\n",
    "randn(50)"
   ]
  },
  {
   "cell_type": "code",
   "execution_count": 5,
   "metadata": {},
   "outputs": [
    {
     "data": {
      "text/plain": [
       "36"
      ]
     },
     "execution_count": 5,
     "metadata": {},
     "output_type": "execute_result"
    }
   ],
   "source": [
    "#count the number of values between -1 and 1\n",
    "\n",
    "count = 0\n",
    "for i in randn(50):\n",
    "    if i >= -1 and i <= 1:\n",
    "        count = count + 1\n",
    "count\n"
   ]
  },
  {
   "cell_type": "code",
   "execution_count": null,
   "metadata": {},
   "outputs": [],
   "source": [
    "#Execise 2"
   ]
  },
  {
   "cell_type": "code",
   "execution_count": 11,
   "metadata": {},
   "outputs": [],
   "source": [
    "#Create two list\n",
    "revenue = [20000.00,100000.50,5321.34]\n",
    "expenses = [12500.45,30000.10,6000.00]"
   ]
  },
  {
   "cell_type": "code",
   "execution_count": 35,
   "metadata": {},
   "outputs": [
    {
     "data": {
      "text/plain": [
       "[7499.549999999999, 70000.4, -678.6599999999999]"
      ]
     },
     "execution_count": 35,
     "metadata": {},
     "output_type": "execute_result"
    }
   ],
   "source": [
    "#calculate profit\n",
    "\n",
    "profit= list([])\n",
    "\n",
    "for i in range(0,len(revenue)):\n",
    "    profit.append(revenue[i] - expenses[i])\n",
    "    \n",
    "profit\n"
   ]
  },
  {
   "cell_type": "code",
   "execution_count": 37,
   "metadata": {},
   "outputs": [
    {
     "data": {
      "text/plain": [
       "[2249.865, 21000.12, -203.59799999999996]"
      ]
     },
     "execution_count": 37,
     "metadata": {},
     "output_type": "execute_result"
    }
   ],
   "source": [
    "tax = [i * 0.3 for i in profit]\n",
    "\n",
    "tax"
   ]
  },
  {
   "cell_type": "code",
   "execution_count": 40,
   "metadata": {},
   "outputs": [
    {
     "data": {
      "text/plain": [
       "[5249.6849999999995, 49000.28, -475.0619999999999]"
      ]
     },
     "execution_count": 40,
     "metadata": {},
     "output_type": "execute_result"
    }
   ],
   "source": [
    "#get net amount\n",
    "\n",
    "net= list([])\n",
    "\n",
    "for i in range(0,len(profit)):\n",
    "    net.append(profit[i] - tax[i])\n",
    "    \n",
    "net"
   ]
  },
  {
   "cell_type": "code",
   "execution_count": 43,
   "metadata": {},
   "outputs": [
    {
     "data": {
      "text/plain": [
       "[5249.68, 49000.28, -475.06]"
      ]
     },
     "execution_count": 43,
     "metadata": {},
     "output_type": "execute_result"
    }
   ],
   "source": [
    "#round the number\n",
    "\n",
    "net_round = [round(i,2) for i in net]\n",
    "\n",
    "net_round"
   ]
  },
  {
   "cell_type": "code",
   "execution_count": 45,
   "metadata": {},
   "outputs": [],
   "source": [
    "import matplotlib.pyplot as plt"
   ]
  },
  {
   "cell_type": "code",
   "execution_count": 46,
   "metadata": {},
   "outputs": [],
   "source": [
    "import pandas as pd"
   ]
  },
  {
   "cell_type": "code",
   "execution_count": null,
   "metadata": {},
   "outputs": [],
   "source": []
  }
 ],
 "metadata": {
  "kernelspec": {
   "display_name": "Python 3",
   "language": "python",
   "name": "python3"
  },
  "language_info": {
   "codemirror_mode": {
    "name": "ipython",
    "version": 3
   },
   "file_extension": ".py",
   "mimetype": "text/x-python",
   "name": "python",
   "nbconvert_exporter": "python",
   "pygments_lexer": "ipython3",
   "version": "3.7.3"
  }
 },
 "nbformat": 4,
 "nbformat_minor": 2
}
